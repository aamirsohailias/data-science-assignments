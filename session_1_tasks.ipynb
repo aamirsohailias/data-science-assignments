{
  "nbformat": 4,
  "nbformat_minor": 0,
  "metadata": {
    "colab": {
      "provenance": []
    },
    "kernelspec": {
      "name": "python3",
      "display_name": "Python 3"
    },
    "language_info": {
      "name": "python"
    }
  },
  "cells": [
    {
      "cell_type": "markdown",
      "source": [
        "# Task : Session 1\n",
        "Solve these questions own your own and try to test yourself what you have learned in the session.\n",
        "\n",
        "Happy Learning!"
      ],
      "metadata": {
        "id": "A05OG15VqOPF"
      }
    },
    {
      "cell_type": "markdown",
      "source": [
        "### Q1 :- Print the given strings as per stated format.\n",
        "\n",
        "**Given strings**:\n",
        "```\n",
        "\"Data\" \"Science\" \"Mentorship\" \"Program\"\n",
        "\"By\" \"PerceptronAI\"\n",
        "```\n",
        "**Output**:\n",
        "```\n",
        "Data-Science-Mentorship-Program-started-By-PerceptronAI\n",
        "```\n",
        "\n",
        "Concept- [Seperator and End]"
      ],
      "metadata": {
        "id": "2doIXf8bqe9_"
      }
    },
    {
      "cell_type": "code",
      "source": [
        "text = 'Data Science Mentorship Program By PerceptronAI'\n",
        "formatted = (text.split()) # it just separates the\n",
        "print(formated)\n",
        "pre = \"-\".join(formated)\n",
        "print(pre)"
      ],
      "metadata": {
        "id": "-em6d3KErDtp",
        "colab": {
          "base_uri": "https://localhost:8080/"
        },
        "outputId": "e27e9a39-2046-4de9-8589-00b5db1e07b1"
      },
      "execution_count": null,
      "outputs": [
        {
          "output_type": "stream",
          "name": "stdout",
          "text": [
            "['Data', 'Science', 'Mentorship', 'Program', 'By', 'PerceptronAI']\n",
            "Data-Science-Mentorship-Program-By-PerceptronAI\n"
          ]
        }
      ]
    },
    {
      "cell_type": "markdown",
      "source": [
        "### Q2:- Write a program that will convert celsius value to fahrenheit."
      ],
      "metadata": {
        "id": "1KUpN7ZTrC3_"
      }
    },
    {
      "cell_type": "code",
      "source": [
        "try:\n",
        "  c_value = int(input(\"Enter Celsius Value :\"))\n",
        "  f_value = (c_value*9/5)+32\n",
        "  print(f\"{c_value}C to {f_value}F \")\n",
        "except:\n",
        "  print(\"Value Error ,Only Integer Values are allowed !\")\n"
      ],
      "metadata": {
        "id": "yxKYhYQiqWfj",
        "colab": {
          "base_uri": "https://localhost:8080/"
        },
        "outputId": "5b3f8981-32c7-4ae9-96a0-2204f4c9c0c5"
      },
      "execution_count": null,
      "outputs": [
        {
          "output_type": "stream",
          "name": "stdout",
          "text": [
            "Enter Celsius Value :jh\n",
            "Value Error ,Only Integer Values are allowed !\n"
          ]
        }
      ]
    },
    {
      "cell_type": "markdown",
      "source": [
        "### Q3:- Take 2 numbers as input from the user.Write a program to swap the numbers without using any special python syntax."
      ],
      "metadata": {
        "id": "RLrOBBJurLB2"
      }
    },
    {
      "cell_type": "code",
      "source": [
        "\n",
        "try :\n",
        "  num_1 = int(input(\"Enter 1st Number:\"))\n",
        "  num_2 = int(input(\"Enter 2nd Number\"))\n",
        "  temp = None\n",
        "  print(f\"Before :\\nX = {num_1} \\nY = {num_2}\")\n",
        "  temp = num_1\n",
        "  num_1 = num_2\n",
        "  num_2 = temp\n",
        "  print(f\"After :\\nX = {num_1} \\nY = {num_2}\")\n",
        "except:\n",
        "    print(\"Value Error...!\")\n",
        "\n"
      ],
      "metadata": {
        "id": "yPn7if0TrJ4F",
        "colab": {
          "base_uri": "https://localhost:8080/"
        },
        "outputId": "0ac4b486-854a-48f7-bdac-5c9fd87a7a50"
      },
      "execution_count": null,
      "outputs": [
        {
          "output_type": "stream",
          "name": "stdout",
          "text": [
            "Enter 1st Number:12\n",
            "Enter 2nd Number13\n",
            "Before :\n",
            "X = 12 \n",
            "Y = 13\n",
            "After :\n",
            "X = 13 \n",
            "Y = 12\n"
          ]
        }
      ]
    },
    {
      "cell_type": "markdown",
      "source": [
        "### Q4:- Write a program to find the euclidean distance between two coordinates.Take both the coordinates from the user as input."
      ],
      "metadata": {
        "id": "waLCP1bjr7ML"
      }
    },
    {
      "cell_type": "code",
      "source": [
        "# Input for point 1\n",
        "x1 = float(input(\"Enter the x-coordinate of point 1: \"))\n",
        "y1 = float(input(\"Enter the y-coordinate of point 1: \"))\n",
        "\n",
        "# Input for point 2\n",
        "x2 = float(input(\"Enter the x-coordinate of point 2: \"))\n",
        "y2 = float(input(\"Enter the y-coordinate of point 2: \"))\n",
        "# Differences between x-coordinates and y-coordinates\n",
        "dx = x2 - x1\n",
        "dy = y2 - y1\n",
        "# Square of the differences\n",
        "dx_squared = dx ** 2\n",
        "dy_squared = dy ** 2\n",
        "# Sum of squared differences\n",
        "sum_of_squares = dx_squared + dy_squared\n",
        "# Euclidean distance\n",
        "euclidean_distance = sum_of_squares ** 0.5\n",
        "print(\"The Euclidean distance between the two points is:\", euclidean_distance)\n"
      ],
      "metadata": {
        "id": "Pl1Sv-xnrxnH",
        "colab": {
          "base_uri": "https://localhost:8080/"
        },
        "outputId": "025f3959-89db-446a-d766-2dcfaf6dccac"
      },
      "execution_count": null,
      "outputs": [
        {
          "output_type": "stream",
          "name": "stdout",
          "text": [
            "Enter the x-coordinate of point 1: 9.5\n",
            "Enter the y-coordinate of point 1: 10.44\n",
            "Enter the x-coordinate of point 2: 34.55\n",
            "Enter the y-coordinate of point 2: 67.22\n",
            "The Euclidean distance between the two points is: 62.06021994804724\n"
          ]
        }
      ]
    },
    {
      "cell_type": "markdown",
      "source": [
        "### Q5:- Write a program to find the simple interest when the value of principle,rate of interest and time period is provided by the user.\n"
      ],
      "metadata": {
        "id": "VLrhg-FRsHjR"
      }
    },
    {
      "cell_type": "code",
      "source": [
        "# taken values from user\n",
        "val_principal = float(input(\"Enter the value of principal: \"))\n",
        "val_rate_interest = float(input(\"Enter the value of rate of interest (as a percentage): \"))\n",
        "val_time_period = float(input(\"Enter the value of time period: \"))\n",
        "\n",
        "# calculate the simple interest\n",
        "simpleInterest = (val_principal * val_rate_interest * val_time_period)/100\n",
        "print(\"calculate the value of simple interest is:\",simpleInterest)\n"
      ],
      "metadata": {
        "id": "s40DlReZsTmY",
        "colab": {
          "base_uri": "https://localhost:8080/"
        },
        "outputId": "4864933d-0395-4034-f521-05b27d013976"
      },
      "execution_count": null,
      "outputs": [
        {
          "output_type": "stream",
          "name": "stdout",
          "text": [
            "Enter the value of principal: 1000\n",
            "Enter the value of rate of interest (as a percentage): 5\n",
            "Enter the value of time period: 10\n",
            "calculate the value of simple interest is: 500.0\n"
          ]
        }
      ]
    },
    {
      "cell_type": "markdown",
      "source": [
        "### Q6:- Write a program that will tell the number of dogs and chicken are there when the user will provide the value of total heads and legs.\n",
        "\n",
        "For example:\n",
        "Input:\n",
        "heads -> 4\n",
        "legs -> 12\n",
        "<br>\n",
        "Output:\n",
        "dogs -> 2\n",
        "chicken -> 2\n",
        "\n",
        "\n",
        "\n"
      ],
      "metadata": {
        "id": "LMy0BTUktYKa"
      }
    },
    {
      "cell_type": "code",
      "source": [
        "def calculate_animals(heads, legs):\n",
        "    # Solving equations\n",
        "    # We have:\n",
        "    # d + c = heads\n",
        "    # 4d + 2c = legs\n",
        "\n",
        "    # Multiplying the first equation by 2 to eliminate c\n",
        "    # 2d + 2c = 2 * heads\n",
        "    # Subtracting the second equation from this to eliminate c\n",
        "    # (2d + 2c) - (4d + 2c) = 2 * heads - legs\n",
        "    # 2d - 4d = 2 * heads - legs\n",
        "    # -2d = 2 * heads - legs\n",
        "\n",
        "    # Solving for d\n",
        "    d = (2 * heads - legs) / 2\n",
        "    # Once we have d, we can find c\n",
        "    c = heads - d\n",
        "\n",
        "    # Converting d and c to integers as we can't have fractional animals\n",
        "    return int(d), int(c)\n",
        "\n",
        "# Taking input from the user\n",
        "total_heads = int(input(\"Enter the total number of heads: \"))\n",
        "total_legs = int(input(\"Enter the total number of legs: \"))\n",
        "\n",
        "# Calculating the number of dogs and chickens\n",
        "dogs, chickens = calculate_animals(total_heads, total_legs)\n",
        "\n",
        "# Output the result\n",
        "print(\"Number of dogs:\", dogs)\n",
        "print(\"Number of chickens:\", chickens)\n"
      ],
      "metadata": {
        "id": "XSBvJoA4tXaG",
        "colab": {
          "base_uri": "https://localhost:8080/"
        },
        "outputId": "f2091a8d-f065-4b32-f149-ae2654d4c295"
      },
      "execution_count": null,
      "outputs": [
        {
          "output_type": "stream",
          "name": "stdout",
          "text": [
            "Enter the total number of heads: 6\n",
            "Enter the total number of legs: 24\n",
            "Number of dogs: -6\n",
            "Number of chickens: 12\n"
          ]
        }
      ]
    },
    {
      "cell_type": "markdown",
      "source": [
        "### Q7:- Write a program to find the sum of squares of first n natural numbers where n will be provided by the user."
      ],
      "metadata": {
        "id": "gJ7C5kZYt4BP"
      }
    },
    {
      "cell_type": "code",
      "source": [
        "# input for n numbers\n",
        "num = int(input(\"how many nums: \"))\n",
        "sum = 0\n",
        "# loop through n natural numbers\n",
        "for i in range(1, num+1):\n",
        "    # calculate the square of nums\n",
        "    squared = i**2\n",
        "    # add square of nums\n",
        "    sum += squared\n",
        "# output of sum\n",
        "print(\"The sum of squares of first\", num, \"natural numbers is:\", sum)"
      ],
      "metadata": {
        "id": "_tHsmEHzt2nX",
        "colab": {
          "base_uri": "https://localhost:8080/"
        },
        "outputId": "d6645664-3b02-42d4-d26c-fcd9a8b9f0ed"
      },
      "execution_count": null,
      "outputs": [
        {
          "output_type": "stream",
          "name": "stdout",
          "text": [
            "how many nums: 10\n",
            "The sum of squares of first 10 natural numbers is: 385\n"
          ]
        }
      ]
    },
    {
      "cell_type": "markdown",
      "source": [
        "### Q8:- Given the first 2 terms of an Arithmetic Series.Find the Nth term of the series. Assume all inputs are provided by the user."
      ],
      "metadata": {
        "id": "FHrMM7g-yG1h"
      }
    },
    {
      "cell_type": "code",
      "source": [
        "# taken input from user\n",
        "firstTerm = int(input(\"Enter the 1st term: \"))\n",
        "secTerm = int(input(\"Enter the 2nd term: \"))\n",
        "nth = int(input(\"Enter the nth term: \"))\n",
        "# common difference\n",
        "diff = secTerm - firstTerm\n",
        "\n",
        "# calculate nth term\n",
        "nth_term = firstTerm + (nth-1)* diff\n",
        "\n",
        "# print the arithmetic series\n",
        "print(\"The\", nth, \"th term of series is:\", nth_term)"
      ],
      "metadata": {
        "id": "go4_kmZmyVSx",
        "colab": {
          "base_uri": "https://localhost:8080/"
        },
        "outputId": "4b46e017-f70e-4804-f572-2b2059adc8b9"
      },
      "execution_count": null,
      "outputs": [
        {
          "output_type": "stream",
          "name": "stdout",
          "text": [
            "Enter the 1st term: 8\n",
            "Enter the 2nd term: 11\n",
            "Enter the nth term: 20\n",
            "The 20 th term of series is: 65\n"
          ]
        }
      ]
    },
    {
      "cell_type": "markdown",
      "source": [
        "### Q9:- Given 2 fractions, find the sum of those 2 fractions.Take the numerator and denominator values of the fractions from the user."
      ],
      "metadata": {
        "id": "QgyRX_es1oum"
      }
    },
    {
      "cell_type": "code",
      "source": [
        "# taken inputs from user for fraction 1\n",
        "numerator = int(input(\"enter value of nominator for fraction1:   \"))\n",
        "denominator = int(input(\"enter value of denominator for fraction1:     \"))\n",
        "\n",
        "# taken inputs from user for fraction 2\n",
        "numerator1 = int(input(\"enter value of nominator for fraction2:   \"))\n",
        "denominator1 = int(input(\"enter value of denominator for fraction2:     \"))\n",
        "\n",
        "# using conditional statement\n",
        "if(denominator == denominator1):\n",
        "  result = (numerator + numerator1) / denominator\n",
        "  print(\"result is:   \", result)\n",
        "else:\n",
        "  numerator = numerator * denominator1\n",
        "  numerator1 = numerator1 * denominator\n",
        "  common_denom = denominator * denominator1\n",
        "  result1 = ( numerator + numerator1 ) / common_denom\n",
        "  print(\"result is:   \", result1)"
      ],
      "metadata": {
        "id": "X05xqFS1yW16",
        "colab": {
          "base_uri": "https://localhost:8080/"
        },
        "outputId": "e2a1e2b1-bcc1-49da-ea6f-eacf22b446de"
      },
      "execution_count": null,
      "outputs": [
        {
          "output_type": "stream",
          "name": "stdout",
          "text": [
            "enter value of nominator for fraction1:   1\n",
            "enter value of denominator for fraction1:     3\n",
            "enter value of nominator for fraction2:   2\n",
            "enter value of denominator for fraction2:     4\n",
            "result is:    0.8333333333333334\n"
          ]
        }
      ]
    },
    {
      "cell_type": "markdown",
      "source": [
        "### Q10:- Given the height, width and breadth of a milk tank, you have to find out how many glasses of milk can be obtained? Assume all the inputs are provided by the user.\n",
        "\n",
        "\n",
        "\n",
        "Input:<br>\n",
        "Dimensions of the milk tank<br>\n",
        "H = 20cm, L = 20cm, B = 20cm\n",
        "<br><br>\n",
        "Dimensions of the glass<br>\n",
        "h = 3cm, r = 1cm"
      ],
      "metadata": {
        "id": "eaql38ln13u7"
      }
    },
    {
      "cell_type": "code",
      "source": [
        "# import pi from math module\n",
        "from math import pi\n",
        "\n",
        "# taken inputs from user regarding tank\n",
        "heightOfT = int(input(\"Enter the height of tank: \"))\n",
        "widthOfT = int(input(\"Enter the width of tank: \"))\n",
        "breadthOfT = int(input(\"Enter the breadth of tank: \"))\n",
        "\n",
        "# calculate volume of tank\n",
        "volumeOfMilkTank = heightOfT*widthOfT*breadthOfT\n",
        "\n",
        "# taken inputs from user regarding glass\n",
        "heightOfG = int(input(\"Enter height of glass: \"))\n",
        "radiusOfG = int(input(\"Enter radius of glass: \"))\n",
        "\n",
        "# Volume of glass\n",
        "volumeOfGlass = pi*(radiusOfG**2) *heightOfG\n",
        "\n",
        "numOfGlasses = volumeOfMilkTank // volumeOfGlass\n",
        "print(f\"number of glasses of milk that can be obtained {numOfGlasses}.\")\n",
        "\n"
      ],
      "metadata": {
        "id": "FePZqno74eWv",
        "colab": {
          "base_uri": "https://localhost:8080/"
        },
        "outputId": "66a1e3c0-fdfd-4fee-9feb-26a669988c50"
      },
      "execution_count": null,
      "outputs": [
        {
          "output_type": "stream",
          "name": "stdout",
          "text": [
            "Enter the height of tank: 50\n",
            "Enter the width of tank: 40\n",
            "Enter the breadth of tank: 30\n",
            "Enter height of glass: 10\n",
            "Enter radius of glass: 5\n",
            "number of glasses of milk that can be obtained 76.0.\n"
          ]
        }
      ]
    },
    {
      "cell_type": "code",
      "source": [],
      "metadata": {
        "id": "az9Kw4oe6pjd"
      },
      "execution_count": null,
      "outputs": []
    }
  ]
}